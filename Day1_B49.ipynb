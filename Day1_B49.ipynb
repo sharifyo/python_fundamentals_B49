{
 "cells": [
  {
   "cell_type": "code",
   "execution_count": 1,
   "id": "4dc9fc4f",
   "metadata": {},
   "outputs": [
    {
     "name": "stdout",
     "output_type": "stream",
     "text": [
      "Hello all welcome to the python world\n"
     ]
    }
   ],
   "source": [
    "print(\"Hello all welcome to the python world\")"
   ]
  },
  {
   "cell_type": "code",
   "execution_count": null,
   "id": "839c3438",
   "metadata": {},
   "outputs": [],
   "source": []
  },
  {
   "cell_type": "code",
   "execution_count": null,
   "id": "446236d9",
   "metadata": {},
   "outputs": [],
   "source": [
    "# for executing the code we have to prress shift + enter button\n",
    "# hash is used for commenting the lines and the command will not get executed."
   ]
  },
  {
   "cell_type": "code",
   "execution_count": null,
   "id": "eeb4f495",
   "metadata": {},
   "outputs": [],
   "source": []
  }
 ],
 "metadata": {
  "kernelspec": {
   "display_name": "Python 3",
   "language": "python",
   "name": "python3"
  },
  "language_info": {
   "codemirror_mode": {
    "name": "ipython",
    "version": 3
   },
   "file_extension": ".py",
   "mimetype": "text/x-python",
   "name": "python",
   "nbconvert_exporter": "python",
   "pygments_lexer": "ipython3",
   "version": "3.8.8"
  }
 },
 "nbformat": 4,
 "nbformat_minor": 5
}
